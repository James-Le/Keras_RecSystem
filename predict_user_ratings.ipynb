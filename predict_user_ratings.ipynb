{
 "cells": [
  {
   "cell_type": "code",
   "execution_count": 10,
   "metadata": {},
   "outputs": [],
   "source": [
    "import pandas as pd\n",
    "import numpy as np\n",
    "import matplotlib.pyplot as plt\n",
    "import warnings\n",
    "warnings.filterwarnings(\"ignore\")\n",
    "\n",
    "%matplotlib inline"
   ]
  },
  {
   "cell_type": "markdown",
   "metadata": {},
   "source": [
    "# load data"
   ]
  },
  {
   "cell_type": "code",
   "execution_count": 11,
   "metadata": {},
   "outputs": [],
   "source": [
    "dataset = pd.read_csv(\"ml-100k/u.data\", sep=\"\\t\", names=\"user_id,item_id,rating,timestamp\".split(\",\"))"
   ]
  },
  {
   "cell_type": "code",
   "execution_count": 12,
   "metadata": {},
   "outputs": [],
   "source": [
    "# assign a unique number(0,) to each user and each item\n",
    "\n",
    "dataset.user_id = dataset.user_id.astype('category').cat.codes.values\n",
    "dataset.item_id = dataset.item_id.astype('category').cat.codes.values"
   ]
  },
  {
   "cell_type": "code",
   "execution_count": 13,
   "metadata": {},
   "outputs": [
    {
     "data": {
      "text/html": [
       "<div>\n",
       "<style scoped>\n",
       "    .dataframe tbody tr th:only-of-type {\n",
       "        vertical-align: middle;\n",
       "    }\n",
       "\n",
       "    .dataframe tbody tr th {\n",
       "        vertical-align: top;\n",
       "    }\n",
       "\n",
       "    .dataframe thead th {\n",
       "        text-align: right;\n",
       "    }\n",
       "</style>\n",
       "<table border=\"1\" class=\"dataframe\">\n",
       "  <thead>\n",
       "    <tr style=\"text-align: right;\">\n",
       "      <th></th>\n",
       "      <th>user_id</th>\n",
       "      <th>item_id</th>\n",
       "      <th>rating</th>\n",
       "      <th>timestamp</th>\n",
       "    </tr>\n",
       "  </thead>\n",
       "  <tbody>\n",
       "    <tr>\n",
       "      <th>0</th>\n",
       "      <td>195</td>\n",
       "      <td>241</td>\n",
       "      <td>3</td>\n",
       "      <td>881250949</td>\n",
       "    </tr>\n",
       "    <tr>\n",
       "      <th>1</th>\n",
       "      <td>185</td>\n",
       "      <td>301</td>\n",
       "      <td>3</td>\n",
       "      <td>891717742</td>\n",
       "    </tr>\n",
       "    <tr>\n",
       "      <th>2</th>\n",
       "      <td>21</td>\n",
       "      <td>376</td>\n",
       "      <td>1</td>\n",
       "      <td>878887116</td>\n",
       "    </tr>\n",
       "    <tr>\n",
       "      <th>3</th>\n",
       "      <td>243</td>\n",
       "      <td>50</td>\n",
       "      <td>2</td>\n",
       "      <td>880606923</td>\n",
       "    </tr>\n",
       "    <tr>\n",
       "      <th>4</th>\n",
       "      <td>165</td>\n",
       "      <td>345</td>\n",
       "      <td>1</td>\n",
       "      <td>886397596</td>\n",
       "    </tr>\n",
       "  </tbody>\n",
       "</table>\n",
       "</div>"
      ],
      "text/plain": [
       "   user_id  item_id  rating  timestamp\n",
       "0      195      241       3  881250949\n",
       "1      185      301       3  891717742\n",
       "2       21      376       1  878887116\n",
       "3      243       50       2  880606923\n",
       "4      165      345       1  886397596"
      ]
     },
     "execution_count": 13,
     "metadata": {},
     "output_type": "execute_result"
    }
   ],
   "source": [
    "dataset.head()"
   ]
  },
  {
   "cell_type": "code",
   "execution_count": 14,
   "metadata": {},
   "outputs": [
    {
     "data": {
      "text/plain": [
       "(100000, 943, 1682)"
      ]
     },
     "execution_count": 14,
     "metadata": {},
     "output_type": "execute_result"
    }
   ],
   "source": [
    "# toy example though\n",
    "\n",
    "len(dataset), len(dataset.user_id.unique()), len(dataset.item_id.unique())"
   ]
  },
  {
   "cell_type": "markdown",
   "metadata": {},
   "source": [
    "# Train-test split"
   ]
  },
  {
   "cell_type": "code",
   "execution_count": 15,
   "metadata": {},
   "outputs": [],
   "source": [
    "from sklearn.model_selection import train_test_split\n",
    "train, test = train_test_split(dataset, test_size=0.2)"
   ]
  },
  {
   "cell_type": "markdown",
   "metadata": {},
   "source": [
    "# Matrix factorization"
   ]
  },
  {
   "cell_type": "code",
   "execution_count": 16,
   "metadata": {},
   "outputs": [],
   "source": [
    "import keras\n",
    "from IPython.display import SVG\n",
    "from keras.optimizers import Adam\n",
    "from keras.utils.vis_utils import model_to_dot\n",
    "n_users, n_movies = len(dataset.user_id.unique()), len(dataset.item_id.unique())\n",
    "n_latent_factors = 3"
   ]
  },
  {
   "cell_type": "code",
   "execution_count": 17,
   "metadata": {},
   "outputs": [],
   "source": [
    "movie_input = keras.layers.Input(shape=[1], name=\"Item\")\n",
    "movie_embedding = keras.layers.Embedding(n_movies+1, n_latent_factors, name=\"Movie-Embedding\")(movie_input)\n",
    "movie_vec = keras.layers.Flatten(name=\"FlattenMovies\")(movie_embedding)\n",
    "\n",
    "user_input = keras.layers.Input(shape=[1], name=\"User\")\n",
    "user_embedding = keras.layers.Embedding(n_users+1, n_latent_factors, name=\"User-Embedding\")(user_input)\n",
    "user_vec = keras.layers.Flatten(name=\"FlattenUsers\")(user_embedding)\n",
    "\n",
    "prod = keras.layers.merge.dot([movie_vec, user_vec], axes=1, name=\"DotProduct\")\n",
    "model = keras.Model([user_input, movie_input], prod)\n",
    "model.compile(\"adam\", \"mean_squared_error\")"
   ]
  },
  {
   "cell_type": "code",
   "execution_count": 18,
   "metadata": {},
   "outputs": [
    {
     "data": {
      "image/svg+xml": [
       "<svg height=\"304pt\" viewBox=\"0.00 0.00 544.00 304.00\" width=\"544pt\" xmlns=\"http://www.w3.org/2000/svg\" xmlns:xlink=\"http://www.w3.org/1999/xlink\">\n",
       "<g class=\"graph\" id=\"graph0\" transform=\"scale(1 1) rotate(0) translate(4 300)\">\n",
       "<title>G</title>\n",
       "<polygon fill=\"#ffffff\" points=\"-4,4 -4,-300 540,-300 540,4 -4,4\" stroke=\"transparent\"/>\n",
       "<!-- 112431543240 -->\n",
       "<g class=\"node\" id=\"node1\">\n",
       "<title>112431543240</title>\n",
       "<polygon fill=\"none\" points=\"36,-249.5 36,-295.5 227,-295.5 227,-249.5 36,-249.5\" stroke=\"#000000\"/>\n",
       "<text fill=\"#000000\" font-family=\"Times,serif\" font-size=\"14.00\" text-anchor=\"middle\" x=\"80\" y=\"-268.8\">Item: InputLayer</text>\n",
       "<polyline fill=\"none\" points=\"124,-249.5 124,-295.5 \" stroke=\"#000000\"/>\n",
       "<text fill=\"#000000\" font-family=\"Times,serif\" font-size=\"14.00\" text-anchor=\"middle\" x=\"147\" y=\"-280.3\">input:</text>\n",
       "<polyline fill=\"none\" points=\"124,-272.5 170,-272.5 \" stroke=\"#000000\"/>\n",
       "<text fill=\"#000000\" font-family=\"Times,serif\" font-size=\"14.00\" text-anchor=\"middle\" x=\"147\" y=\"-257.3\">output:</text>\n",
       "<polyline fill=\"none\" points=\"170,-249.5 170,-295.5 \" stroke=\"#000000\"/>\n",
       "<text fill=\"#000000\" font-family=\"Times,serif\" font-size=\"14.00\" text-anchor=\"middle\" x=\"198.5\" y=\"-280.3\">(None, 1)</text>\n",
       "<polyline fill=\"none\" points=\"170,-272.5 227,-272.5 \" stroke=\"#000000\"/>\n",
       "<text fill=\"#000000\" font-family=\"Times,serif\" font-size=\"14.00\" text-anchor=\"middle\" x=\"198.5\" y=\"-257.3\">(None, 1)</text>\n",
       "</g>\n",
       "<!-- 112431543128 -->\n",
       "<g class=\"node\" id=\"node3\">\n",
       "<title>112431543128</title>\n",
       "<polygon fill=\"none\" points=\"0,-166.5 0,-212.5 263,-212.5 263,-166.5 0,-166.5\" stroke=\"#000000\"/>\n",
       "<text fill=\"#000000\" font-family=\"Times,serif\" font-size=\"14.00\" text-anchor=\"middle\" x=\"75\" y=\"-185.8\">Movie-Embedding: Embedding</text>\n",
       "<polyline fill=\"none\" points=\"150,-166.5 150,-212.5 \" stroke=\"#000000\"/>\n",
       "<text fill=\"#000000\" font-family=\"Times,serif\" font-size=\"14.00\" text-anchor=\"middle\" x=\"173\" y=\"-197.3\">input:</text>\n",
       "<polyline fill=\"none\" points=\"150,-189.5 196,-189.5 \" stroke=\"#000000\"/>\n",
       "<text fill=\"#000000\" font-family=\"Times,serif\" font-size=\"14.00\" text-anchor=\"middle\" x=\"173\" y=\"-174.3\">output:</text>\n",
       "<polyline fill=\"none\" points=\"196,-166.5 196,-212.5 \" stroke=\"#000000\"/>\n",
       "<text fill=\"#000000\" font-family=\"Times,serif\" font-size=\"14.00\" text-anchor=\"middle\" x=\"229.5\" y=\"-197.3\">(None, 1)</text>\n",
       "<polyline fill=\"none\" points=\"196,-189.5 263,-189.5 \" stroke=\"#000000\"/>\n",
       "<text fill=\"#000000\" font-family=\"Times,serif\" font-size=\"14.00\" text-anchor=\"middle\" x=\"229.5\" y=\"-174.3\">(None, 1, 3)</text>\n",
       "</g>\n",
       "<!-- 112431543240&#45;&gt;112431543128 -->\n",
       "<g class=\"edge\" id=\"edge1\">\n",
       "<title>112431543240-&gt;112431543128</title>\n",
       "<path d=\"M131.5,-249.3799C131.5,-241.1745 131.5,-231.7679 131.5,-222.8786\" fill=\"none\" stroke=\"#000000\"/>\n",
       "<polygon fill=\"#000000\" points=\"135.0001,-222.784 131.5,-212.784 128.0001,-222.784 135.0001,-222.784\" stroke=\"#000000\"/>\n",
       "</g>\n",
       "<!-- 112431542624 -->\n",
       "<g class=\"node\" id=\"node2\">\n",
       "<title>112431542624</title>\n",
       "<polygon fill=\"none\" points=\"312.5,-249.5 312.5,-295.5 504.5,-295.5 504.5,-249.5 312.5,-249.5\" stroke=\"#000000\"/>\n",
       "<text fill=\"#000000\" font-family=\"Times,serif\" font-size=\"14.00\" text-anchor=\"middle\" x=\"357\" y=\"-268.8\">User: InputLayer</text>\n",
       "<polyline fill=\"none\" points=\"401.5,-249.5 401.5,-295.5 \" stroke=\"#000000\"/>\n",
       "<text fill=\"#000000\" font-family=\"Times,serif\" font-size=\"14.00\" text-anchor=\"middle\" x=\"424.5\" y=\"-280.3\">input:</text>\n",
       "<polyline fill=\"none\" points=\"401.5,-272.5 447.5,-272.5 \" stroke=\"#000000\"/>\n",
       "<text fill=\"#000000\" font-family=\"Times,serif\" font-size=\"14.00\" text-anchor=\"middle\" x=\"424.5\" y=\"-257.3\">output:</text>\n",
       "<polyline fill=\"none\" points=\"447.5,-249.5 447.5,-295.5 \" stroke=\"#000000\"/>\n",
       "<text fill=\"#000000\" font-family=\"Times,serif\" font-size=\"14.00\" text-anchor=\"middle\" x=\"476\" y=\"-280.3\">(None, 1)</text>\n",
       "<polyline fill=\"none\" points=\"447.5,-272.5 504.5,-272.5 \" stroke=\"#000000\"/>\n",
       "<text fill=\"#000000\" font-family=\"Times,serif\" font-size=\"14.00\" text-anchor=\"middle\" x=\"476\" y=\"-257.3\">(None, 1)</text>\n",
       "</g>\n",
       "<!-- 112431542792 -->\n",
       "<g class=\"node\" id=\"node4\">\n",
       "<title>112431542792</title>\n",
       "<polygon fill=\"none\" points=\"281,-166.5 281,-212.5 536,-212.5 536,-166.5 281,-166.5\" stroke=\"#000000\"/>\n",
       "<text fill=\"#000000\" font-family=\"Times,serif\" font-size=\"14.00\" text-anchor=\"middle\" x=\"352\" y=\"-185.8\">User-Embedding: Embedding</text>\n",
       "<polyline fill=\"none\" points=\"423,-166.5 423,-212.5 \" stroke=\"#000000\"/>\n",
       "<text fill=\"#000000\" font-family=\"Times,serif\" font-size=\"14.00\" text-anchor=\"middle\" x=\"446\" y=\"-197.3\">input:</text>\n",
       "<polyline fill=\"none\" points=\"423,-189.5 469,-189.5 \" stroke=\"#000000\"/>\n",
       "<text fill=\"#000000\" font-family=\"Times,serif\" font-size=\"14.00\" text-anchor=\"middle\" x=\"446\" y=\"-174.3\">output:</text>\n",
       "<polyline fill=\"none\" points=\"469,-166.5 469,-212.5 \" stroke=\"#000000\"/>\n",
       "<text fill=\"#000000\" font-family=\"Times,serif\" font-size=\"14.00\" text-anchor=\"middle\" x=\"502.5\" y=\"-197.3\">(None, 1)</text>\n",
       "<polyline fill=\"none\" points=\"469,-189.5 536,-189.5 \" stroke=\"#000000\"/>\n",
       "<text fill=\"#000000\" font-family=\"Times,serif\" font-size=\"14.00\" text-anchor=\"middle\" x=\"502.5\" y=\"-174.3\">(None, 1, 3)</text>\n",
       "</g>\n",
       "<!-- 112431542624&#45;&gt;112431542792 -->\n",
       "<g class=\"edge\" id=\"edge2\">\n",
       "<title>112431542624-&gt;112431542792</title>\n",
       "<path d=\"M408.5,-249.3799C408.5,-241.1745 408.5,-231.7679 408.5,-222.8786\" fill=\"none\" stroke=\"#000000\"/>\n",
       "<polygon fill=\"#000000\" points=\"412.0001,-222.784 408.5,-212.784 405.0001,-222.784 412.0001,-222.784\" stroke=\"#000000\"/>\n",
       "</g>\n",
       "<!-- 112431543072 -->\n",
       "<g class=\"node\" id=\"node5\">\n",
       "<title>112431543072</title>\n",
       "<polygon fill=\"none\" points=\"38,-83.5 38,-129.5 263,-129.5 263,-83.5 38,-83.5\" stroke=\"#000000\"/>\n",
       "<text fill=\"#000000\" font-family=\"Times,serif\" font-size=\"14.00\" text-anchor=\"middle\" x=\"94\" y=\"-102.8\">FlattenMovies: Flatten</text>\n",
       "<polyline fill=\"none\" points=\"150,-83.5 150,-129.5 \" stroke=\"#000000\"/>\n",
       "<text fill=\"#000000\" font-family=\"Times,serif\" font-size=\"14.00\" text-anchor=\"middle\" x=\"173\" y=\"-114.3\">input:</text>\n",
       "<polyline fill=\"none\" points=\"150,-106.5 196,-106.5 \" stroke=\"#000000\"/>\n",
       "<text fill=\"#000000\" font-family=\"Times,serif\" font-size=\"14.00\" text-anchor=\"middle\" x=\"173\" y=\"-91.3\">output:</text>\n",
       "<polyline fill=\"none\" points=\"196,-83.5 196,-129.5 \" stroke=\"#000000\"/>\n",
       "<text fill=\"#000000\" font-family=\"Times,serif\" font-size=\"14.00\" text-anchor=\"middle\" x=\"229.5\" y=\"-114.3\">(None, 1, 3)</text>\n",
       "<polyline fill=\"none\" points=\"196,-106.5 263,-106.5 \" stroke=\"#000000\"/>\n",
       "<text fill=\"#000000\" font-family=\"Times,serif\" font-size=\"14.00\" text-anchor=\"middle\" x=\"229.5\" y=\"-91.3\">(None, 3)</text>\n",
       "</g>\n",
       "<!-- 112431543128&#45;&gt;112431543072 -->\n",
       "<g class=\"edge\" id=\"edge3\">\n",
       "<title>112431543128-&gt;112431543072</title>\n",
       "<path d=\"M136.7926,-166.3799C138.6913,-158.0854 140.8711,-148.5633 142.9254,-139.5889\" fill=\"none\" stroke=\"#000000\"/>\n",
       "<polygon fill=\"#000000\" points=\"146.3502,-140.3129 145.1699,-129.784 139.5267,-138.7508 146.3502,-140.3129\" stroke=\"#000000\"/>\n",
       "</g>\n",
       "<!-- 112431542680 -->\n",
       "<g class=\"node\" id=\"node6\">\n",
       "<title>112431542680</title>\n",
       "<polygon fill=\"none\" points=\"290,-83.5 290,-129.5 507,-129.5 507,-83.5 290,-83.5\" stroke=\"#000000\"/>\n",
       "<text fill=\"#000000\" font-family=\"Times,serif\" font-size=\"14.00\" text-anchor=\"middle\" x=\"342\" y=\"-102.8\">FlattenUsers: Flatten</text>\n",
       "<polyline fill=\"none\" points=\"394,-83.5 394,-129.5 \" stroke=\"#000000\"/>\n",
       "<text fill=\"#000000\" font-family=\"Times,serif\" font-size=\"14.00\" text-anchor=\"middle\" x=\"417\" y=\"-114.3\">input:</text>\n",
       "<polyline fill=\"none\" points=\"394,-106.5 440,-106.5 \" stroke=\"#000000\"/>\n",
       "<text fill=\"#000000\" font-family=\"Times,serif\" font-size=\"14.00\" text-anchor=\"middle\" x=\"417\" y=\"-91.3\">output:</text>\n",
       "<polyline fill=\"none\" points=\"440,-83.5 440,-129.5 \" stroke=\"#000000\"/>\n",
       "<text fill=\"#000000\" font-family=\"Times,serif\" font-size=\"14.00\" text-anchor=\"middle\" x=\"473.5\" y=\"-114.3\">(None, 1, 3)</text>\n",
       "<polyline fill=\"none\" points=\"440,-106.5 507,-106.5 \" stroke=\"#000000\"/>\n",
       "<text fill=\"#000000\" font-family=\"Times,serif\" font-size=\"14.00\" text-anchor=\"middle\" x=\"473.5\" y=\"-91.3\">(None, 3)</text>\n",
       "</g>\n",
       "<!-- 112431542792&#45;&gt;112431542680 -->\n",
       "<g class=\"edge\" id=\"edge4\">\n",
       "<title>112431542792-&gt;112431542680</title>\n",
       "<path d=\"M405.7144,-166.3799C404.7258,-158.1745 403.5925,-148.7679 402.5215,-139.8786\" fill=\"none\" stroke=\"#000000\"/>\n",
       "<polygon fill=\"#000000\" points=\"405.9764,-139.2935 401.3053,-129.784 399.0267,-140.1309 405.9764,-139.2935\" stroke=\"#000000\"/>\n",
       "</g>\n",
       "<!-- 112431542848 -->\n",
       "<g class=\"node\" id=\"node7\">\n",
       "<title>112431542848</title>\n",
       "<polygon fill=\"none\" points=\"149,-.5 149,-46.5 390,-46.5 390,-.5 149,-.5\" stroke=\"#000000\"/>\n",
       "<text fill=\"#000000\" font-family=\"Times,serif\" font-size=\"14.00\" text-anchor=\"middle\" x=\"192\" y=\"-19.8\">DotProduct: Dot</text>\n",
       "<polyline fill=\"none\" points=\"235,-.5 235,-46.5 \" stroke=\"#000000\"/>\n",
       "<text fill=\"#000000\" font-family=\"Times,serif\" font-size=\"14.00\" text-anchor=\"middle\" x=\"258\" y=\"-31.3\">input:</text>\n",
       "<polyline fill=\"none\" points=\"235,-23.5 281,-23.5 \" stroke=\"#000000\"/>\n",
       "<text fill=\"#000000\" font-family=\"Times,serif\" font-size=\"14.00\" text-anchor=\"middle\" x=\"258\" y=\"-8.3\">output:</text>\n",
       "<polyline fill=\"none\" points=\"281,-.5 281,-46.5 \" stroke=\"#000000\"/>\n",
       "<text fill=\"#000000\" font-family=\"Times,serif\" font-size=\"14.00\" text-anchor=\"middle\" x=\"335.5\" y=\"-31.3\">[(None, 3), (None, 3)]</text>\n",
       "<polyline fill=\"none\" points=\"281,-23.5 390,-23.5 \" stroke=\"#000000\"/>\n",
       "<text fill=\"#000000\" font-family=\"Times,serif\" font-size=\"14.00\" text-anchor=\"middle\" x=\"335.5\" y=\"-8.3\">(None, 1)</text>\n",
       "</g>\n",
       "<!-- 112431543072&#45;&gt;112431542848 -->\n",
       "<g class=\"edge\" id=\"edge5\">\n",
       "<title>112431543072-&gt;112431542848</title>\n",
       "<path d=\"M183.6481,-83.3799C197.3305,-73.8367 213.3426,-62.6686 227.808,-52.5793\" fill=\"none\" stroke=\"#000000\"/>\n",
       "<polygon fill=\"#000000\" points=\"229.9171,-55.3755 236.1169,-46.784 225.9126,-49.6341 229.9171,-55.3755\" stroke=\"#000000\"/>\n",
       "</g>\n",
       "<!-- 112431542680&#45;&gt;112431542848 -->\n",
       "<g class=\"edge\" id=\"edge6\">\n",
       "<title>112431542680-&gt;112431542848</title>\n",
       "<path d=\"M362.5663,-83.3799C347.5956,-73.7475 330.0518,-62.4597 314.2563,-52.2967\" fill=\"none\" stroke=\"#000000\"/>\n",
       "<polygon fill=\"#000000\" points=\"315.9919,-49.2515 305.6884,-46.784 312.2043,-55.1383 315.9919,-49.2515\" stroke=\"#000000\"/>\n",
       "</g>\n",
       "</g>\n",
       "</svg>"
      ],
      "text/plain": [
       "<IPython.core.display.SVG object>"
      ]
     },
     "execution_count": 18,
     "metadata": {},
     "output_type": "execute_result"
    }
   ],
   "source": [
    "SVG(model_to_dot(model, show_shapes=True, show_layer_names=True, rankdir=\"HB\").create(prog=\"dot\", format=\"svg\"))"
   ]
  },
  {
   "cell_type": "code",
   "execution_count": 19,
   "metadata": {},
   "outputs": [
    {
     "name": "stdout",
     "output_type": "stream",
     "text": [
      "WARNING:tensorflow:From /anaconda3/lib/python3.6/site-packages/tensorflow/python/ops/math_ops.py:3066: to_int32 (from tensorflow.python.ops.math_ops) is deprecated and will be removed in a future version.\n",
      "Instructions for updating:\n",
      "Use tf.cast instead.\n"
     ]
    }
   ],
   "source": [
    "hist = model.fit([train.user_id, train.item_id], train.rating, epochs=100, verbose=0)"
   ]
  },
  {
   "cell_type": "code",
   "execution_count": 20,
   "metadata": {},
   "outputs": [
    {
     "data": {
      "text/plain": [
       "Text(0,0.5,'Train Error')"
      ]
     },
     "execution_count": 20,
     "metadata": {},
     "output_type": "execute_result"
    },
    {
     "data": {
      "image/png": "[encoded data removed]",
      "text/plain": [
       "<Figure size 432x288 with 1 Axes>"
      ]
     },
     "metadata": {},
     "output_type": "display_data"
    }
   ],
   "source": [
    "pd.Series(hist.history[\"loss\"]).plot(logy=True)\n",
    "plt.xlabel(\"Epoch\")\n",
    "plt.ylabel(\"Train Error\")"
   ]
  },
  {
   "cell_type": "code",
   "execution_count": 21,
   "metadata": {},
   "outputs": [],
   "source": [
    "y_hat = np.round(model.predict([test.user_id, test.item_id]), 0)\n",
    "y_true = test.rating"
   ]
  },
  {
   "cell_type": "code",
   "execution_count": 22,
   "metadata": {},
   "outputs": [
    {
     "data": {
      "text/plain": [
       "0.6959"
      ]
     },
     "execution_count": 22,
     "metadata": {},
     "output_type": "execute_result"
    }
   ],
   "source": [
    "from sklearn.metrics import mean_absolute_error\n",
    "mean_absolute_error(y_true, y_hat)"
   ]
  },
  {
   "cell_type": "markdown",
   "metadata": {},
   "source": [
    "# Pseudo-siamese network"
   ]
  },
  {
   "cell_type": "code",
   "execution_count": 24,
   "metadata": {},
   "outputs": [],
   "source": [
    "n_latent_factors_users = 5\n",
    "n_latent_factors_movie = 8\n",
    "\n",
    "movie_input = keras.layers.Input(shape=[1], name=\"Item\")\n",
    "movie_embedding = keras.layers.Embedding(n_movies+1, n_latent_factors_movie, name=\"Movie-Embedding\")(movie_input)\n",
    "movie_vec = keras.layers.Flatten(name=\"FlattenMovies\")(movie_embedding)\n",
    "\n",
    "user_input = keras.layers.Input(shape=[1], name=\"User\")\n",
    "user_embedding = keras.layers.Embedding(n_users+1, n_latent_factors_users, name=\"User-Embedding\")(user_input)\n",
    "user_vec = keras.layers.Flatten(name=\"FlattenUsers\")(user_embedding)\n",
    "\n",
    "concat = keras.layers.merge.concatenate([movie_vec, user_vec], name=\"Concat\")\n",
    "dense_1 = keras.layers.Dense(100,name='FullyConnected-1')(concat)\n",
    "dense_2 = keras.layers.Dense(50,name='FullyConnected-2')(dense_1)\n",
    "\n",
    "result = keras.layers.Dense(1, activation=\"relu\", name=\"Activation\")(dense_2)\n",
    "adam = Adam(lr=0.005)\n",
    "model = keras.Model([user_input, movie_input], result)\n",
    "model.compile(optimizer=adam, loss=\"mean_absolute_error\")"
   ]
  },
  {
   "cell_type": "code",
   "execution_count": 25,
   "metadata": {},
   "outputs": [
    {
     "data": {
      "image/svg+xml": [
       "<svg height=\"553pt\" viewBox=\"0.00 0.00 544.00 553.00\" width=\"544pt\" xmlns=\"http://www.w3.org/2000/svg\" xmlns:xlink=\"http://www.w3.org/1999/xlink\">\n",
       "<g class=\"graph\" id=\"graph0\" transform=\"scale(1 1) rotate(0) translate(4 549)\">\n",
       "<title>G</title>\n",
       "<polygon fill=\"#ffffff\" points=\"-4,4 -4,-549 540,-549 540,4 -4,4\" stroke=\"transparent\"/>\n",
       "<!-- 112440621656 -->\n",
       "<g class=\"node\" id=\"node1\">\n",
       "<title>112440621656</title>\n",
       "<polygon fill=\"none\" points=\"36,-498.5 36,-544.5 227,-544.5 227,-498.5 36,-498.5\" stroke=\"#000000\"/>\n",
       "<text fill=\"#000000\" font-family=\"Times,serif\" font-size=\"14.00\" text-anchor=\"middle\" x=\"80\" y=\"-517.8\">Item: InputLayer</text>\n",
       "<polyline fill=\"none\" points=\"124,-498.5 124,-544.5 \" stroke=\"#000000\"/>\n",
       "<text fill=\"#000000\" font-family=\"Times,serif\" font-size=\"14.00\" text-anchor=\"middle\" x=\"147\" y=\"-529.3\">input:</text>\n",
       "<polyline fill=\"none\" points=\"124,-521.5 170,-521.5 \" stroke=\"#000000\"/>\n",
       "<text fill=\"#000000\" font-family=\"Times,serif\" font-size=\"14.00\" text-anchor=\"middle\" x=\"147\" y=\"-506.3\">output:</text>\n",
       "<polyline fill=\"none\" points=\"170,-498.5 170,-544.5 \" stroke=\"#000000\"/>\n",
       "<text fill=\"#000000\" font-family=\"Times,serif\" font-size=\"14.00\" text-anchor=\"middle\" x=\"198.5\" y=\"-529.3\">(None, 1)</text>\n",
       "<polyline fill=\"none\" points=\"170,-521.5 227,-521.5 \" stroke=\"#000000\"/>\n",
       "<text fill=\"#000000\" font-family=\"Times,serif\" font-size=\"14.00\" text-anchor=\"middle\" x=\"198.5\" y=\"-506.3\">(None, 1)</text>\n",
       "</g>\n",
       "<!-- 112440621768 -->\n",
       "<g class=\"node\" id=\"node3\">\n",
       "<title>112440621768</title>\n",
       "<polygon fill=\"none\" points=\"0,-415.5 0,-461.5 263,-461.5 263,-415.5 0,-415.5\" stroke=\"#000000\"/>\n",
       "<text fill=\"#000000\" font-family=\"Times,serif\" font-size=\"14.00\" text-anchor=\"middle\" x=\"75\" y=\"-434.8\">Movie-Embedding: Embedding</text>\n",
       "<polyline fill=\"none\" points=\"150,-415.5 150,-461.5 \" stroke=\"#000000\"/>\n",
       "<text fill=\"#000000\" font-family=\"Times,serif\" font-size=\"14.00\" text-anchor=\"middle\" x=\"173\" y=\"-446.3\">input:</text>\n",
       "<polyline fill=\"none\" points=\"150,-438.5 196,-438.5 \" stroke=\"#000000\"/>\n",
       "<text fill=\"#000000\" font-family=\"Times,serif\" font-size=\"14.00\" text-anchor=\"middle\" x=\"173\" y=\"-423.3\">output:</text>\n",
       "<polyline fill=\"none\" points=\"196,-415.5 196,-461.5 \" stroke=\"#000000\"/>\n",
       "<text fill=\"#000000\" font-family=\"Times,serif\" font-size=\"14.00\" text-anchor=\"middle\" x=\"229.5\" y=\"-446.3\">(None, 1)</text>\n",
       "<polyline fill=\"none\" points=\"196,-438.5 263,-438.5 \" stroke=\"#000000\"/>\n",
       "<text fill=\"#000000\" font-family=\"Times,serif\" font-size=\"14.00\" text-anchor=\"middle\" x=\"229.5\" y=\"-423.3\">(None, 1, 8)</text>\n",
       "</g>\n",
       "<!-- 112440621656&#45;&gt;112440621768 -->\n",
       "<g class=\"edge\" id=\"edge1\">\n",
       "<title>112440621656-&gt;112440621768</title>\n",
       "<path d=\"M131.5,-498.3799C131.5,-490.1745 131.5,-480.7679 131.5,-471.8786\" fill=\"none\" stroke=\"#000000\"/>\n",
       "<polygon fill=\"#000000\" points=\"135.0001,-471.784 131.5,-461.784 128.0001,-471.784 135.0001,-471.784\" stroke=\"#000000\"/>\n",
       "</g>\n",
       "<!-- 112440621992 -->\n",
       "<g class=\"node\" id=\"node2\">\n",
       "<title>112440621992</title>\n",
       "<polygon fill=\"none\" points=\"312.5,-498.5 312.5,-544.5 504.5,-544.5 504.5,-498.5 312.5,-498.5\" stroke=\"#000000\"/>\n",
       "<text fill=\"#000000\" font-family=\"Times,serif\" font-size=\"14.00\" text-anchor=\"middle\" x=\"357\" y=\"-517.8\">User: InputLayer</text>\n",
       "<polyline fill=\"none\" points=\"401.5,-498.5 401.5,-544.5 \" stroke=\"#000000\"/>\n",
       "<text fill=\"#000000\" font-family=\"Times,serif\" font-size=\"14.00\" text-anchor=\"middle\" x=\"424.5\" y=\"-529.3\">input:</text>\n",
       "<polyline fill=\"none\" points=\"401.5,-521.5 447.5,-521.5 \" stroke=\"#000000\"/>\n",
       "<text fill=\"#000000\" font-family=\"Times,serif\" font-size=\"14.00\" text-anchor=\"middle\" x=\"424.5\" y=\"-506.3\">output:</text>\n",
       "<polyline fill=\"none\" points=\"447.5,-498.5 447.5,-544.5 \" stroke=\"#000000\"/>\n",
       "<text fill=\"#000000\" font-family=\"Times,serif\" font-size=\"14.00\" text-anchor=\"middle\" x=\"476\" y=\"-529.3\">(None, 1)</text>\n",
       "<polyline fill=\"none\" points=\"447.5,-521.5 504.5,-521.5 \" stroke=\"#000000\"/>\n",
       "<text fill=\"#000000\" font-family=\"Times,serif\" font-size=\"14.00\" text-anchor=\"middle\" x=\"476\" y=\"-506.3\">(None, 1)</text>\n",
       "</g>\n",
       "<!-- 112440621824 -->\n",
       "<g class=\"node\" id=\"node4\">\n",
       "<title>112440621824</title>\n",
       "<polygon fill=\"none\" points=\"281,-415.5 281,-461.5 536,-461.5 536,-415.5 281,-415.5\" stroke=\"#000000\"/>\n",
       "<text fill=\"#000000\" font-family=\"Times,serif\" font-size=\"14.00\" text-anchor=\"middle\" x=\"352\" y=\"-434.8\">User-Embedding: Embedding</text>\n",
       "<polyline fill=\"none\" points=\"423,-415.5 423,-461.5 \" stroke=\"#000000\"/>\n",
       "<text fill=\"#000000\" font-family=\"Times,serif\" font-size=\"14.00\" text-anchor=\"middle\" x=\"446\" y=\"-446.3\">input:</text>\n",
       "<polyline fill=\"none\" points=\"423,-438.5 469,-438.5 \" stroke=\"#000000\"/>\n",
       "<text fill=\"#000000\" font-family=\"Times,serif\" font-size=\"14.00\" text-anchor=\"middle\" x=\"446\" y=\"-423.3\">output:</text>\n",
       "<polyline fill=\"none\" points=\"469,-415.5 469,-461.5 \" stroke=\"#000000\"/>\n",
       "<text fill=\"#000000\" font-family=\"Times,serif\" font-size=\"14.00\" text-anchor=\"middle\" x=\"502.5\" y=\"-446.3\">(None, 1)</text>\n",
       "<polyline fill=\"none\" points=\"469,-438.5 536,-438.5 \" stroke=\"#000000\"/>\n",
       "<text fill=\"#000000\" font-family=\"Times,serif\" font-size=\"14.00\" text-anchor=\"middle\" x=\"502.5\" y=\"-423.3\">(None, 1, 5)</text>\n",
       "</g>\n",
       "<!-- 112440621992&#45;&gt;112440621824 -->\n",
       "<g class=\"edge\" id=\"edge2\">\n",
       "<title>112440621992-&gt;112440621824</title>\n",
       "<path d=\"M408.5,-498.3799C408.5,-490.1745 408.5,-480.7679 408.5,-471.8786\" fill=\"none\" stroke=\"#000000\"/>\n",
       "<polygon fill=\"#000000\" points=\"412.0001,-471.784 408.5,-461.784 405.0001,-471.784 412.0001,-471.784\" stroke=\"#000000\"/>\n",
       "</g>\n",
       "<!-- 112440622272 -->\n",
       "<g class=\"node\" id=\"node5\">\n",
       "<title>112440622272</title>\n",
       "<polygon fill=\"none\" points=\"38,-332.5 38,-378.5 263,-378.5 263,-332.5 38,-332.5\" stroke=\"#000000\"/>\n",
       "<text fill=\"#000000\" font-family=\"Times,serif\" font-size=\"14.00\" text-anchor=\"middle\" x=\"94\" y=\"-351.8\">FlattenMovies: Flatten</text>\n",
       "<polyline fill=\"none\" points=\"150,-332.5 150,-378.5 \" stroke=\"#000000\"/>\n",
       "<text fill=\"#000000\" font-family=\"Times,serif\" font-size=\"14.00\" text-anchor=\"middle\" x=\"173\" y=\"-363.3\">input:</text>\n",
       "<polyline fill=\"none\" points=\"150,-355.5 196,-355.5 \" stroke=\"#000000\"/>\n",
       "<text fill=\"#000000\" font-family=\"Times,serif\" font-size=\"14.00\" text-anchor=\"middle\" x=\"173\" y=\"-340.3\">output:</text>\n",
       "<polyline fill=\"none\" points=\"196,-332.5 196,-378.5 \" stroke=\"#000000\"/>\n",
       "<text fill=\"#000000\" font-family=\"Times,serif\" font-size=\"14.00\" text-anchor=\"middle\" x=\"229.5\" y=\"-363.3\">(None, 1, 8)</text>\n",
       "<polyline fill=\"none\" points=\"196,-355.5 263,-355.5 \" stroke=\"#000000\"/>\n",
       "<text fill=\"#000000\" font-family=\"Times,serif\" font-size=\"14.00\" text-anchor=\"middle\" x=\"229.5\" y=\"-340.3\">(None, 8)</text>\n",
       "</g>\n",
       "<!-- 112440621768&#45;&gt;112440622272 -->\n",
       "<g class=\"edge\" id=\"edge3\">\n",
       "<title>112440621768-&gt;112440622272</title>\n",
       "<path d=\"M136.7926,-415.3799C138.6913,-407.0854 140.8711,-397.5633 142.9254,-388.5889\" fill=\"none\" stroke=\"#000000\"/>\n",
       "<polygon fill=\"#000000\" points=\"146.3502,-389.3129 145.1699,-378.784 139.5267,-387.7508 146.3502,-389.3129\" stroke=\"#000000\"/>\n",
       "</g>\n",
       "<!-- 112440622552 -->\n",
       "<g class=\"node\" id=\"node6\">\n",
       "<title>112440622552</title>\n",
       "<polygon fill=\"none\" points=\"290,-332.5 290,-378.5 507,-378.5 507,-332.5 290,-332.5\" stroke=\"#000000\"/>\n",
       "<text fill=\"#000000\" font-family=\"Times,serif\" font-size=\"14.00\" text-anchor=\"middle\" x=\"342\" y=\"-351.8\">FlattenUsers: Flatten</text>\n",
       "<polyline fill=\"none\" points=\"394,-332.5 394,-378.5 \" stroke=\"#000000\"/>\n",
       "<text fill=\"#000000\" font-family=\"Times,serif\" font-size=\"14.00\" text-anchor=\"middle\" x=\"417\" y=\"-363.3\">input:</text>\n",
       "<polyline fill=\"none\" points=\"394,-355.5 440,-355.5 \" stroke=\"#000000\"/>\n",
       "<text fill=\"#000000\" font-family=\"Times,serif\" font-size=\"14.00\" text-anchor=\"middle\" x=\"417\" y=\"-340.3\">output:</text>\n",
       "<polyline fill=\"none\" points=\"440,-332.5 440,-378.5 \" stroke=\"#000000\"/>\n",
       "<text fill=\"#000000\" font-family=\"Times,serif\" font-size=\"14.00\" text-anchor=\"middle\" x=\"473.5\" y=\"-363.3\">(None, 1, 5)</text>\n",
       "<polyline fill=\"none\" points=\"440,-355.5 507,-355.5 \" stroke=\"#000000\"/>\n",
       "<text fill=\"#000000\" font-family=\"Times,serif\" font-size=\"14.00\" text-anchor=\"middle\" x=\"473.5\" y=\"-340.3\">(None, 5)</text>\n",
       "</g>\n",
       "<!-- 112440621824&#45;&gt;112440622552 -->\n",
       "<g class=\"edge\" id=\"edge4\">\n",
       "<title>112440621824-&gt;112440622552</title>\n",
       "<path d=\"M405.7144,-415.3799C404.7258,-407.1745 403.5925,-397.7679 402.5215,-388.8786\" fill=\"none\" stroke=\"#000000\"/>\n",
       "<polygon fill=\"#000000\" points=\"405.9764,-388.2935 401.3053,-378.784 399.0267,-389.1309 405.9764,-388.2935\" stroke=\"#000000\"/>\n",
       "</g>\n",
       "<!-- 112440622048 -->\n",
       "<g class=\"node\" id=\"node7\">\n",
       "<title>112440622048</title>\n",
       "<polygon fill=\"none\" points=\"140,-249.5 140,-295.5 399,-295.5 399,-249.5 140,-249.5\" stroke=\"#000000\"/>\n",
       "<text fill=\"#000000\" font-family=\"Times,serif\" font-size=\"14.00\" text-anchor=\"middle\" x=\"192\" y=\"-268.8\">Concat: Concatenate</text>\n",
       "<polyline fill=\"none\" points=\"244,-249.5 244,-295.5 \" stroke=\"#000000\"/>\n",
       "<text fill=\"#000000\" font-family=\"Times,serif\" font-size=\"14.00\" text-anchor=\"middle\" x=\"267\" y=\"-280.3\">input:</text>\n",
       "<polyline fill=\"none\" points=\"244,-272.5 290,-272.5 \" stroke=\"#000000\"/>\n",
       "<text fill=\"#000000\" font-family=\"Times,serif\" font-size=\"14.00\" text-anchor=\"middle\" x=\"267\" y=\"-257.3\">output:</text>\n",
       "<polyline fill=\"none\" points=\"290,-249.5 290,-295.5 \" stroke=\"#000000\"/>\n",
       "<text fill=\"#000000\" font-family=\"Times,serif\" font-size=\"14.00\" text-anchor=\"middle\" x=\"344.5\" y=\"-280.3\">[(None, 8), (None, 5)]</text>\n",
       "<polyline fill=\"none\" points=\"290,-272.5 399,-272.5 \" stroke=\"#000000\"/>\n",
       "<text fill=\"#000000\" font-family=\"Times,serif\" font-size=\"14.00\" text-anchor=\"middle\" x=\"344.5\" y=\"-257.3\">(None, 13)</text>\n",
       "</g>\n",
       "<!-- 112440622272&#45;&gt;112440622048 -->\n",
       "<g class=\"edge\" id=\"edge5\">\n",
       "<title>112440622272-&gt;112440622048</title>\n",
       "<path d=\"M183.6481,-332.3799C197.3305,-322.8367 213.3426,-311.6686 227.808,-301.5793\" fill=\"none\" stroke=\"#000000\"/>\n",
       "<polygon fill=\"#000000\" points=\"229.9171,-304.3755 236.1169,-295.784 225.9126,-298.6341 229.9171,-304.3755\" stroke=\"#000000\"/>\n",
       "</g>\n",
       "<!-- 112440622552&#45;&gt;112440622048 -->\n",
       "<g class=\"edge\" id=\"edge6\">\n",
       "<title>112440622552-&gt;112440622048</title>\n",
       "<path d=\"M362.5663,-332.3799C347.5956,-322.7475 330.0518,-311.4597 314.2563,-301.2967\" fill=\"none\" stroke=\"#000000\"/>\n",
       "<polygon fill=\"#000000\" points=\"315.9919,-298.2515 305.6884,-295.784 312.2043,-304.1383 315.9919,-298.2515\" stroke=\"#000000\"/>\n",
       "</g>\n",
       "<!-- 112440764680 -->\n",
       "<g class=\"node\" id=\"node8\">\n",
       "<title>112440764680</title>\n",
       "<polygon fill=\"none\" points=\"151,-166.5 151,-212.5 388,-212.5 388,-166.5 151,-166.5\" stroke=\"#000000\"/>\n",
       "<text fill=\"#000000\" font-family=\"Times,serif\" font-size=\"14.00\" text-anchor=\"middle\" x=\"213\" y=\"-185.8\">FullyConnected-1: Dense</text>\n",
       "<polyline fill=\"none\" points=\"275,-166.5 275,-212.5 \" stroke=\"#000000\"/>\n",
       "<text fill=\"#000000\" font-family=\"Times,serif\" font-size=\"14.00\" text-anchor=\"middle\" x=\"298\" y=\"-197.3\">input:</text>\n",
       "<polyline fill=\"none\" points=\"275,-189.5 321,-189.5 \" stroke=\"#000000\"/>\n",
       "<text fill=\"#000000\" font-family=\"Times,serif\" font-size=\"14.00\" text-anchor=\"middle\" x=\"298\" y=\"-174.3\">output:</text>\n",
       "<polyline fill=\"none\" points=\"321,-166.5 321,-212.5 \" stroke=\"#000000\"/>\n",
       "<text fill=\"#000000\" font-family=\"Times,serif\" font-size=\"14.00\" text-anchor=\"middle\" x=\"354.5\" y=\"-197.3\">(None, 13)</text>\n",
       "<polyline fill=\"none\" points=\"321,-189.5 388,-189.5 \" stroke=\"#000000\"/>\n",
       "<text fill=\"#000000\" font-family=\"Times,serif\" font-size=\"14.00\" text-anchor=\"middle\" x=\"354.5\" y=\"-174.3\">(None, 100)</text>\n",
       "</g>\n",
       "<!-- 112440622048&#45;&gt;112440764680 -->\n",
       "<g class=\"edge\" id=\"edge7\">\n",
       "<title>112440622048-&gt;112440764680</title>\n",
       "<path d=\"M269.5,-249.3799C269.5,-241.1745 269.5,-231.7679 269.5,-222.8786\" fill=\"none\" stroke=\"#000000\"/>\n",
       "<polygon fill=\"#000000\" points=\"273.0001,-222.784 269.5,-212.784 266.0001,-222.784 273.0001,-222.784\" stroke=\"#000000\"/>\n",
       "</g>\n",
       "<!-- 112440622608 -->\n",
       "<g class=\"node\" id=\"node9\">\n",
       "<title>112440622608</title>\n",
       "<polygon fill=\"none\" points=\"151,-83.5 151,-129.5 388,-129.5 388,-83.5 151,-83.5\" stroke=\"#000000\"/>\n",
       "<text fill=\"#000000\" font-family=\"Times,serif\" font-size=\"14.00\" text-anchor=\"middle\" x=\"213\" y=\"-102.8\">FullyConnected-2: Dense</text>\n",
       "<polyline fill=\"none\" points=\"275,-83.5 275,-129.5 \" stroke=\"#000000\"/>\n",
       "<text fill=\"#000000\" font-family=\"Times,serif\" font-size=\"14.00\" text-anchor=\"middle\" x=\"298\" y=\"-114.3\">input:</text>\n",
       "<polyline fill=\"none\" points=\"275,-106.5 321,-106.5 \" stroke=\"#000000\"/>\n",
       "<text fill=\"#000000\" font-family=\"Times,serif\" font-size=\"14.00\" text-anchor=\"middle\" x=\"298\" y=\"-91.3\">output:</text>\n",
       "<polyline fill=\"none\" points=\"321,-83.5 321,-129.5 \" stroke=\"#000000\"/>\n",
       "<text fill=\"#000000\" font-family=\"Times,serif\" font-size=\"14.00\" text-anchor=\"middle\" x=\"354.5\" y=\"-114.3\">(None, 100)</text>\n",
       "<polyline fill=\"none\" points=\"321,-106.5 388,-106.5 \" stroke=\"#000000\"/>\n",
       "<text fill=\"#000000\" font-family=\"Times,serif\" font-size=\"14.00\" text-anchor=\"middle\" x=\"354.5\" y=\"-91.3\">(None, 50)</text>\n",
       "</g>\n",
       "<!-- 112440764680&#45;&gt;112440622608 -->\n",
       "<g class=\"edge\" id=\"edge8\">\n",
       "<title>112440764680-&gt;112440622608</title>\n",
       "<path d=\"M269.5,-166.3799C269.5,-158.1745 269.5,-148.7679 269.5,-139.8786\" fill=\"none\" stroke=\"#000000\"/>\n",
       "<polygon fill=\"#000000\" points=\"273.0001,-139.784 269.5,-129.784 266.0001,-139.784 273.0001,-139.784\" stroke=\"#000000\"/>\n",
       "</g>\n",
       "<!-- 112440876616 -->\n",
       "<g class=\"node\" id=\"node10\">\n",
       "<title>112440876616</title>\n",
       "<polygon fill=\"none\" points=\"169,-.5 169,-46.5 370,-46.5 370,-.5 169,-.5\" stroke=\"#000000\"/>\n",
       "<text fill=\"#000000\" font-family=\"Times,serif\" font-size=\"14.00\" text-anchor=\"middle\" x=\"215.5\" y=\"-19.8\">Activation: Dense</text>\n",
       "<polyline fill=\"none\" points=\"262,-.5 262,-46.5 \" stroke=\"#000000\"/>\n",
       "<text fill=\"#000000\" font-family=\"Times,serif\" font-size=\"14.00\" text-anchor=\"middle\" x=\"285\" y=\"-31.3\">input:</text>\n",
       "<polyline fill=\"none\" points=\"262,-23.5 308,-23.5 \" stroke=\"#000000\"/>\n",
       "<text fill=\"#000000\" font-family=\"Times,serif\" font-size=\"14.00\" text-anchor=\"middle\" x=\"285\" y=\"-8.3\">output:</text>\n",
       "<polyline fill=\"none\" points=\"308,-.5 308,-46.5 \" stroke=\"#000000\"/>\n",
       "<text fill=\"#000000\" font-family=\"Times,serif\" font-size=\"14.00\" text-anchor=\"middle\" x=\"339\" y=\"-31.3\">(None, 50)</text>\n",
       "<polyline fill=\"none\" points=\"308,-23.5 370,-23.5 \" stroke=\"#000000\"/>\n",
       "<text fill=\"#000000\" font-family=\"Times,serif\" font-size=\"14.00\" text-anchor=\"middle\" x=\"339\" y=\"-8.3\">(None, 1)</text>\n",
       "</g>\n",
       "<!-- 112440622608&#45;&gt;112440876616 -->\n",
       "<g class=\"edge\" id=\"edge9\">\n",
       "<title>112440622608-&gt;112440876616</title>\n",
       "<path d=\"M269.5,-83.3799C269.5,-75.1745 269.5,-65.7679 269.5,-56.8786\" fill=\"none\" stroke=\"#000000\"/>\n",
       "<polygon fill=\"#000000\" points=\"273.0001,-56.784 269.5,-46.784 266.0001,-56.784 273.0001,-56.784\" stroke=\"#000000\"/>\n",
       "</g>\n",
       "</g>\n",
       "</svg>"
      ],
      "text/plain": [
       "<IPython.core.display.SVG object>"
      ]
     },
     "execution_count": 25,
     "metadata": {},
     "output_type": "execute_result"
    }
   ],
   "source": [
    "SVG(model_to_dot(model, show_shapes=True, show_layer_names=True, rankdir=\"HB\").create(prog=\"dot\", format=\"svg\"))"
   ]
  },
  {
   "cell_type": "code",
   "execution_count": 26,
   "metadata": {},
   "outputs": [],
   "source": [
    "hist = model.fit([train.user_id, train.item_id], train.rating, epochs=100, verbose=0)"
   ]
  },
  {
   "cell_type": "code",
   "execution_count": 27,
   "metadata": {},
   "outputs": [
    {
     "data": {
      "text/plain": [
       "Text(0,0.5,'Train Error')"
      ]
     },
     "execution_count": 27,
     "metadata": {},
     "output_type": "execute_result"
    },
    {
     "data": {
      "image/png": "[encoded data removed]",
      "text/plain": [
       "<Figure size 432x288 with 1 Axes>"
      ]
     },
     "metadata": {},
     "output_type": "display_data"
    }
   ],
   "source": [
    "pd.Series(hist.history[\"loss\"]).plot(logy=True)\n",
    "plt.xlabel(\"Epoch\")\n",
    "plt.ylabel(\"Train Error\")"
   ]
  },
  {
   "cell_type": "code",
   "execution_count": 28,
   "metadata": {},
   "outputs": [
    {
     "data": {
      "text/plain": [
       "0.7133"
      ]
     },
     "execution_count": 28,
     "metadata": {},
     "output_type": "execute_result"
    }
   ],
   "source": [
    "y_hat = np.round(model.predict([test.user_id, test.item_id]), 0)\n",
    "y_true = test.rating\n",
    "mean_absolute_error(y_true, y_hat)"
   ]
  },
  {
   "cell_type": "markdown",
   "metadata": {},
   "source": [
    "# Simple SVD beats complex network without tuning in this case. However, as the number of input features increases, network still has a chance to win."
   ]
  }
 ],
 "metadata": {
  "kernelspec": {
   "display_name": "Python 3",
   "language": "python",
   "name": "python3"
  },
  "language_info": {
   "codemirror_mode": {
    "name": "ipython",
    "version": 3
   },
   "file_extension": ".py",
   "mimetype": "text/x-python",
   "name": "python",
   "nbconvert_exporter": "python",
   "pygments_lexer": "ipython3",
   "version": "3.6.5"
  }
 },
 "nbformat": 4,
 "nbformat_minor": 2
}
